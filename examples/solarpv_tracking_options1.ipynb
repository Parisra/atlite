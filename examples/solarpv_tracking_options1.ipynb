{
 "cells": [
  {
   "cell_type": "markdown",
   "id": "92c45770",
   "metadata": {},
   "source": [
    "# Solar PV tracking options\n",
    "First of all import all relevant packages "
   ]
  },
  {
   "cell_type": "code",
   "execution_count": 1,
   "id": "0a368517",
   "metadata": {},
   "outputs": [],
   "source": [
    "import matplotlib.pyplot as plt\n",
    "import geopandas as gpd\n",
    "import pandas as pd\n",
    "import numpy as np\n",
    "import os \n",
    "\n",
    "import cartopy.crs as ccrs\n",
    "from cartopy.crs import PlateCarree as plate\n",
    "import cartopy.io.shapereader as shpreader\n",
    "\n",
    "import xarray as xr\n",
    "import atlite"
   ]
  },
  {
   "cell_type": "code",
   "execution_count": 2,
   "id": "2fa2a769",
   "metadata": {},
   "outputs": [],
   "source": [
    "## Select Spain bounds for example"
   ]
  },
  {
   "cell_type": "code",
   "execution_count": 3,
   "id": "821c8443",
   "metadata": {},
   "outputs": [],
   "source": [
    "country_name = \"Spain\"\n",
    "path = \"Spain-2019\"\n",
    "year = \"2019\"\n",
    "tmp_dir = os.path.join(\"./tmp_dir\")"
   ]
  },
  {
   "cell_type": "markdown",
   "id": "61b6c52f",
   "metadata": {},
   "source": [
    "- use the shapereader of Cartopy to retrieve high resoluted shapes\n",
    "- make a GeoSeries with the shapes"
   ]
  },
  {
   "cell_type": "code",
   "execution_count": 4,
   "id": "8a144b98",
   "metadata": {},
   "outputs": [
    {
     "name": "stderr",
     "output_type": "stream",
     "text": [
      "/home/parisr/miniconda3/envs/pypsa-eur2/lib/python3.9/site-packages/pyproj/crs/crs.py:131: FutureWarning: '+init=<authority>:<code>' syntax is deprecated. '<authority>:<code>' is the preferred initialization method. When making the change, be mindful of axis order changes: https://pyproj4.github.io/pyproj/stable/gotchas.html#axis-order-changes-in-proj-6\n",
      "  in_crs_string = _prepare_from_proj_string(in_crs_string)\n"
     ]
    },
    {
     "data": {
      "text/plain": [
       "(-18.167225714999915, 27.642238674000055, 4.337087436000047, 43.79344310100004)"
      ]
     },
     "execution_count": 4,
     "metadata": {},
     "output_type": "execute_result"
    }
   ],
   "source": [
    "shpfilename = shpreader.natural_earth(resolution='10m',\n",
    "                                      category='cultural',\n",
    "                                      name='admin_0_countries')\n",
    "reader = shpreader.Reader(shpfilename)\n",
    "\n",
    "country = gpd.GeoSeries({r.attributes['NAME_EN']: r.geometry\n",
    "                      for r in reader.records()},\n",
    "                     crs={'init': 'epsg:4326'}\n",
    "                     ).reindex([country_name])\n",
    "country.unary_union.bounds\n"
   ]
  },
  {
   "cell_type": "markdown",
   "id": "a52e27f9",
   "metadata": {},
   "source": [
    "- create the cutout"
   ]
  },
  {
   "cell_type": "code",
   "execution_count": 5,
   "id": "50552e40",
   "metadata": {},
   "outputs": [
    {
     "name": "stderr",
     "output_type": "stream",
     "text": [
      "/home/parisr/miniconda3/envs/pypsa-eur2/lib/python3.9/site-packages/atlite/cutout.py:187: UserWarning: Arguments module, bounds, time are ignored, since cutout is already built.\n",
      "  warn(\n"
     ]
    },
    {
     "data": {
      "text/plain": [
       "<Cutout \"Spain-2019\">\n",
       " x = -18.00 ⟷ 4.25, dx = 0.25\n",
       " y = 27.75 ⟷ 43.75, dy = 0.25\n",
       " time = 2019-01-01 ⟷ 2019-12-31, dt = H\n",
       " module = era5\n",
       " prepared_features = ['height', 'wind', 'influx', 'temperature', 'runoff']"
      ]
     },
     "execution_count": 5,
     "metadata": {},
     "output_type": "execute_result"
    }
   ],
   "source": [
    "cutout = atlite.Cutout(\n",
    "    path=path,\n",
    "    module=\"era5\",\n",
    "    bounds=country.unary_union.bounds,\n",
    "    time=year,\n",
    "    )\n",
    "\n",
    "tmpdir = 'scratch/$699849'\n",
    "if tmpdir is not None:\n",
    "        from pathlib import Path\n",
    "        Path(tmpdir).mkdir(parents=True, exist_ok=True)\n",
    "        \n",
    "cutout.prepare(tmpdir=tmpdir) "
   ]
  },
  {
   "cell_type": "markdown",
   "id": "0a4e0c91",
   "metadata": {},
   "source": [
    "## Calculate capacity factors for the three solar pv tracking options"
   ]
  },
  {
   "cell_type": "markdown",
   "id": "5e2621a0",
   "metadata": {},
   "source": [
    "- tracking : None or str:\n",
    "    - None for no tracking, default\n",
    "    - 'vertical' for 1-axis vertical tracking\n",
    "    - 'vh' for 2-axis tracking"
   ]
  },
  {
   "cell_type": "markdown",
   "id": "f5aaeee7",
   "metadata": {},
   "source": [
    "- No tracking: "
   ]
  },
  {
   "cell_type": "code",
   "execution_count": 7,
   "id": "ce99e0af",
   "metadata": {},
   "outputs": [
    {
     "name": "stdout",
     "output_type": "stream",
     "text": [
      "[########################################] | 100% Completed | 9.05 s\n"
     ]
    }
   ],
   "source": [
    "cells = cutout.grid\n",
    "cap_factors_pv_0axis = cutout.pv(panel='CSi', orientation={'slope': 30., 'azimuth': 180.}, shapes = cells, tracking=None, per_unit=True)"
   ]
  },
  {
   "cell_type": "markdown",
   "id": "08032fe3",
   "metadata": {},
   "source": [
    "- 1-axis horizontal tracking"
   ]
  },
  {
   "cell_type": "code",
   "execution_count": 8,
   "id": "03fc9b4e",
   "metadata": {},
   "outputs": [
    {
     "name": "stdout",
     "output_type": "stream",
     "text": [
      "[########################################] | 100% Completed | 9.01 s\n"
     ]
    }
   ],
   "source": [
    "cells = cutout.grid\n",
    "cap_factors_pv_1axis_h = cutout.pv(panel='CSi', orientation={'slope': 30., 'azimuth': 180.}, shapes = cells, tracking='horizontal', per_unit=True)"
   ]
  },
  {
   "cell_type": "markdown",
   "id": "ef1c7024",
   "metadata": {},
   "source": [
    "- 1-axis tilted-panel horizontal tracking"
   ]
  },
  {
   "cell_type": "code",
   "execution_count": 9,
   "id": "2d796f98",
   "metadata": {},
   "outputs": [
    {
     "name": "stdout",
     "output_type": "stream",
     "text": [
      "[########################################] | 100% Completed | 9.33 s\n"
     ]
    }
   ],
   "source": [
    "cells = cutout.grid\n",
    "cap_factors_pv_1axis_th = cutout.pv(panel='CSi', orientation={'slope': 30., 'azimuth': 180.}, shapes = cells, tracking='tilted_horizontal', per_unit=True)"
   ]
  },
  {
   "cell_type": "markdown",
   "id": "8c5ba05c",
   "metadata": {},
   "source": [
    "- 1-axis vertical tracking"
   ]
  },
  {
   "cell_type": "code",
   "execution_count": 10,
   "id": "d7fabaf0",
   "metadata": {},
   "outputs": [
    {
     "name": "stdout",
     "output_type": "stream",
     "text": [
      "[########################################] | 100% Completed | 7.85 s\n"
     ]
    }
   ],
   "source": [
    "cap_factors_pv_1axis_v = cutout.pv(panel='CSi', orientation={'slope': 30., 'azimuth': 180.}, shapes = cells, tracking='vertical', per_unit=True)"
   ]
  },
  {
   "cell_type": "markdown",
   "id": "24c46c87",
   "metadata": {},
   "source": [
    "- 2-axis vertical tracking"
   ]
  },
  {
   "cell_type": "code",
   "execution_count": null,
   "id": "11709af1",
   "metadata": {},
   "outputs": [],
   "source": [
    "cap_factors_pv_2axis = cutout.pv(panel='CSi', orientation={'slope': 30., 'azimuth': 180.}, shapes = cells, tracking='dual', per_unit=True)"
   ]
  },
  {
   "cell_type": "markdown",
   "id": "120acc6b",
   "metadata": {},
   "source": [
    "## Compare results"
   ]
  },
  {
   "cell_type": "markdown",
   "id": "00b5e315",
   "metadata": {},
   "source": [
    "- average capacity factor"
   ]
  },
  {
   "cell_type": "code",
   "execution_count": null,
   "id": "9021a84e",
   "metadata": {},
   "outputs": [],
   "source": [
    "print(cap_factors_pv_0axis.mean())\n",
    "print(cap_factors_pv_1axis_h.mean())\n",
    "print(cap_factors_pv_1axis_th.mean())\n",
    "print(cap_factors_pv_1axis_v.mean())\n",
    "print(cap_factors_pv_2axis.mean())"
   ]
  },
  {
   "cell_type": "markdown",
   "id": "83b27f2f",
   "metadata": {},
   "source": [
    "- compare time-series capacity factor for a location"
   ]
  },
  {
   "cell_type": "code",
   "execution_count": null,
   "id": "4b6fe7e5",
   "metadata": {},
   "outputs": [],
   "source": [
    "point = cells[(cells['y']==40) & (cells['x']==-2.5)].index"
   ]
  },
  {
   "cell_type": "code",
   "execution_count": null,
   "id": "8123e9c0",
   "metadata": {},
   "outputs": [],
   "source": [
    "cap_factors_pv_0axis_df = cap_factors_pv_0axis.to_pandas()\n",
    "cap_factors_pv_1axis_h_df = cap_factors_pv_1axis_h.to_pandas()\n",
    "cap_factors_pv_1axis_th_df = cap_factors_pv_1axis_th.to_pandas()\n",
    "cap_factors_pv_1axis_v_df = cap_factors_pv_1axis_v.to_pandas()\n",
    "cap_factors_pv_2axis_df = cap_factors_pv_2axis.to_pandas()"
   ]
  },
  {
   "cell_type": "code",
   "execution_count": null,
   "id": "6c6e098d",
   "metadata": {},
   "outputs": [],
   "source": [
    "fig = plt.figure()\n",
    "plt.plot(cap_factors_pv_2axis_df[point])\n",
    "plt.plot(cap_factors_pv_1axis_v_df[point])\n",
    "plt.plot(cap_factors_pv_0axis_df[point])\n",
    "\n",
    "\n",
    "plt.rcParams[\"figure.figsize\"] = (20,12)\n",
    "plt.rcParams.update({'font.size': 22})\n",
    "plt.yticks(fontsize=20)\n",
    "plt.xticks(fontsize=20)\n",
    "\n",
    "plt.legend(['2-axis tracking', '1-axis vertical tracking', 'No tracking'])\n",
    "plt.title('Tracking options: Spain @(-2.5°, 40°)')\n",
    "\n",
    "plt.show()"
   ]
  },
  {
   "cell_type": "code",
   "execution_count": null,
   "id": "4f7f2466",
   "metadata": {},
   "outputs": [],
   "source": [
    "fig = plt.figure()\n",
    "plt.rcParams[\"figure.figsize\"] = (20,12)\n",
    "plt.rcParams.update({'font.size': 22})\n",
    "\n",
    "plt.plot(cap_factors_pv_2axis_df[point])\n",
    "plt.plot(cap_factors_pv_1axis_v_df[point])\n",
    "plt.plot(cap_factors_pv_1axis_h_df[point])\n",
    "\n",
    "plt.yticks(fontsize=20)\n",
    "plt.xticks(fontsize=20)\n",
    "\n",
    "plt.legend(['2-axis tracking', '1-axis vertical tracking', \n",
    "            '1-axis horizontal tracking'])\n",
    "plt.title('Tracking options: Spain @(-2.5°, 40°)')\n",
    "\n",
    "plt.show()"
   ]
  },
  {
   "cell_type": "code",
   "execution_count": null,
   "id": "35f21c88",
   "metadata": {},
   "outputs": [],
   "source": [
    "fig = plt.figure()\n",
    "plt.rcParams[\"figure.figsize\"] = (20,12)\n",
    "plt.rcParams.update({'font.size': 22})\n",
    "\n",
    "plt.plot(cap_factors_pv_2axis_df[point])\n",
    "plt.plot(cap_factors_pv_1axis_th_df[point])\n",
    "plt.plot(cap_factors_pv_1axis_v_df[point])\n",
    "\n",
    "plt.yticks(fontsize=20)\n",
    "plt.xticks(fontsize=20)\n",
    "\n",
    "plt.legend(['2-axis tracking','1-axis tilted horizontal tracking', '1-axis vertical tracking', \n",
    "            ])\n",
    "plt.title('Tracking options: Spain @(-2.5°, 40°)')\n",
    "\n",
    "plt.show()"
   ]
  },
  {
   "cell_type": "code",
   "execution_count": null,
   "id": "fb56aab0",
   "metadata": {},
   "outputs": [],
   "source": [
    "fig = plt.figure()\n",
    "plt.rcParams[\"figure.figsize\"] = (20,12)\n",
    "plt.rcParams.update({'font.size': 22})\n",
    "\n",
    "plt.plot(cap_factors_pv_2axis_df[point]['2019-07-01 00:00:00':'2019-07-03 00:00:00'])\n",
    "plt.plot(cap_factors_pv_1axis_th_df[point]['2019-07-01 00:00:00':'2019-07-03 00:00:00'])\n",
    "plt.plot(cap_factors_pv_1axis_v_df[point]['2019-07-01 00:00:00':'2019-07-03 00:00:00'])\n",
    "\n",
    "plt.yticks(fontsize=20)\n",
    "plt.xticks(fontsize=20)\n",
    "\n",
    "plt.legend(['2-axis tracking','1-axis tilted horizontal tracking', '1-axis vertical tracking', \n",
    "            ])\n",
    "plt.title('Tracking options: Spain @(-2.5°, 40°)')\n",
    "\n",
    "plt.show()"
   ]
  },
  {
   "cell_type": "code",
   "execution_count": null,
   "id": "7b1501e7",
   "metadata": {},
   "outputs": [],
   "source": []
  }
 ],
 "metadata": {
  "kernelspec": {
   "display_name": "Python 3 (ipykernel)",
   "language": "python",
   "name": "python3"
  },
  "language_info": {
   "codemirror_mode": {
    "name": "ipython",
    "version": 3
   },
   "file_extension": ".py",
   "mimetype": "text/x-python",
   "name": "python",
   "nbconvert_exporter": "python",
   "pygments_lexer": "ipython3",
   "version": "3.9.13"
  }
 },
 "nbformat": 4,
 "nbformat_minor": 5
}
